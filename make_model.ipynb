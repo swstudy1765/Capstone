{
 "cells": [
  {
   "cell_type": "code",
   "execution_count": 1,
   "metadata": {},
   "outputs": [
    {
     "name": "stdout",
     "output_type": "stream",
     "text": [
      "Retrieving notices: ...working... done\n",
      "Collecting package metadata (current_repodata.json): ...working... done\n",
      "Solving environment: ...working... done\n",
      "\n",
      "# All requested packages already installed.\n",
      "\n"
     ]
    },
    {
     "name": "stderr",
     "output_type": "stream",
     "text": [
      "\n",
      "\n",
      "==> WARNING: A newer version of conda exists. <==\n",
      "  current version: 23.1.0\n",
      "  latest version: 23.9.0\n",
      "\n",
      "Please update conda by running\n",
      "\n",
      "    $ conda update -n base -c defaults conda\n",
      "\n",
      "Or to minimize the number of packages updated during conda update use\n",
      "\n",
      "     conda install conda=23.9.0\n",
      "\n",
      "\n"
     ]
    },
    {
     "name": "stdout",
     "output_type": "stream",
     "text": [
      "Collecting package metadata (current_repodata.json): ...working... done\n",
      "Solving environment: ...working... failed with initial frozen solve. Retrying with flexible solve.\n",
      "Collecting package metadata (repodata.json): ...working... done\n",
      "Solving environment: ...working... failed with initial frozen solve. Retrying with flexible solve.\n"
     ]
    },
    {
     "name": "stderr",
     "output_type": "stream",
     "text": [
      "\n",
      "PackagesNotFoundError: The following packages are not available from current channels:\n",
      "\n",
      "  - keras==2.2.5\n",
      "\n",
      "Current channels:\n",
      "\n",
      "  - https://repo.anaconda.com/pkgs/main/win-64\n",
      "  - https://repo.anaconda.com/pkgs/main/noarch\n",
      "  - https://repo.anaconda.com/pkgs/r/win-64\n",
      "  - https://repo.anaconda.com/pkgs/r/noarch\n",
      "  - https://repo.anaconda.com/pkgs/msys2/win-64\n",
      "  - https://repo.anaconda.com/pkgs/msys2/noarch\n",
      "\n",
      "To search for alternate channels that may provide the conda package you're\n",
      "looking for, navigate to\n",
      "\n",
      "    https://anaconda.org\n",
      "\n",
      "and use the search bar at the top of the page.\n",
      "\n",
      "\n"
     ]
    },
    {
     "name": "stdout",
     "output_type": "stream",
     "text": [
      "Collecting package metadata (current_repodata.json): ...working... done\n",
      "Solving environment: ...working... done\n",
      "\n",
      "# All requested packages already installed.\n",
      "\n"
     ]
    },
    {
     "name": "stderr",
     "output_type": "stream",
     "text": [
      "\n",
      "\n",
      "==> WARNING: A newer version of conda exists. <==\n",
      "  current version: 23.1.0\n",
      "  latest version: 23.9.0\n",
      "\n",
      "Please update conda by running\n",
      "\n",
      "    $ conda update -n base -c defaults conda\n",
      "\n",
      "Or to minimize the number of packages updated during conda update use\n",
      "\n",
      "     conda install conda=23.9.0\n",
      "\n",
      "\n"
     ]
    },
    {
     "name": "stdout",
     "output_type": "stream",
     "text": [
      "Requirement already satisfied: opencv-python==4.5.1.48 in c:\\users\\min14\\anaconda3\\envs\\aicar_373\\lib\\site-packages (4.5.1.48)\n",
      "Requirement already satisfied: numpy>=1.14.5 in c:\\users\\min14\\anaconda3\\envs\\aicar_373\\lib\\site-packages (from opencv-python==4.5.1.48) (1.16.4)\n",
      "Requirement already satisfied: imgaug in c:\\users\\min14\\anaconda3\\envs\\aicar_373\\lib\\site-packages (0.4.0)\n",
      "Requirement already satisfied: scipy in c:\\users\\min14\\anaconda3\\envs\\aicar_373\\lib\\site-packages (from imgaug) (1.2.1)\n",
      "Requirement already satisfied: numpy>=1.15 in c:\\users\\min14\\anaconda3\\envs\\aicar_373\\lib\\site-packages (from imgaug) (1.16.4)\n",
      "Requirement already satisfied: opencv-python in c:\\users\\min14\\anaconda3\\envs\\aicar_373\\lib\\site-packages (from imgaug) (4.5.1.48)\n",
      "Requirement already satisfied: imageio in c:\\users\\min14\\anaconda3\\envs\\aicar_373\\lib\\site-packages (from imgaug) (2.5.0)\n",
      "Requirement already satisfied: Shapely in c:\\users\\min14\\anaconda3\\envs\\aicar_373\\lib\\site-packages (from imgaug) (2.0.1)\n",
      "Requirement already satisfied: Pillow in c:\\users\\min14\\anaconda3\\envs\\aicar_373\\lib\\site-packages (from imgaug) (6.1.0)\n",
      "Requirement already satisfied: scikit-image>=0.14.2 in c:\\users\\min14\\anaconda3\\envs\\aicar_373\\lib\\site-packages (from imgaug) (0.15.0)\n",
      "Requirement already satisfied: six in c:\\users\\min14\\anaconda3\\envs\\aicar_373\\lib\\site-packages (from imgaug) (1.12.0)\n",
      "Requirement already satisfied: matplotlib in c:\\users\\min14\\anaconda3\\envs\\aicar_373\\lib\\site-packages (from imgaug) (3.1.0)\n",
      "Requirement already satisfied: networkx>=2.0 in c:\\users\\min14\\anaconda3\\envs\\aicar_373\\lib\\site-packages (from scikit-image>=0.14.2->imgaug) (2.3)\n",
      "Requirement already satisfied: PyWavelets>=0.4.0 in c:\\users\\min14\\anaconda3\\envs\\aicar_373\\lib\\site-packages (from scikit-image>=0.14.2->imgaug) (1.0.3)\n",
      "Requirement already satisfied: cycler>=0.10 in c:\\users\\min14\\anaconda3\\envs\\aicar_373\\lib\\site-packages (from matplotlib->imgaug) (0.10.0)\n",
      "Requirement already satisfied: kiwisolver>=1.0.1 in c:\\users\\min14\\anaconda3\\envs\\aicar_373\\lib\\site-packages (from matplotlib->imgaug) (1.1.0)\n",
      "Requirement already satisfied: pyparsing!=2.0.4,!=2.1.2,!=2.1.6,>=2.0.1 in c:\\users\\min14\\anaconda3\\envs\\aicar_373\\lib\\site-packages (from matplotlib->imgaug) (2.4.0)\n",
      "Requirement already satisfied: python-dateutil>=2.1 in c:\\users\\min14\\anaconda3\\envs\\aicar_373\\lib\\site-packages (from matplotlib->imgaug) (2.8.0)\n",
      "Requirement already satisfied: decorator>=4.3.0 in c:\\users\\min14\\anaconda3\\envs\\aicar_373\\lib\\site-packages (from networkx>=2.0->scikit-image>=0.14.2->imgaug) (4.4.0)\n",
      "Requirement already satisfied: setuptools in c:\\users\\min14\\anaconda3\\envs\\aicar_373\\lib\\site-packages (from kiwisolver>=1.0.1->matplotlib->imgaug) (41.0.1)\n"
     ]
    }
   ],
   "source": [
    "!conda install tensorflow==1.14 -y\n",
    "!conda install keras==2.2.5 -y\n",
    "!conda install h5py==2.10.0 -y\n",
    "!pip install opencv-python==4.5.1.48\n",
    "!pip install imgaug"
   ]
  },
  {
   "cell_type": "code",
   "execution_count": 5,
   "metadata": {},
   "outputs": [],
   "source": [
    "import zipfile\n",
    "\n",
    "zip_file=zipfile.ZipFile(\"data_30000.zip\")\n",
    "zip_file.extractall()"
   ]
  },
  {
   "cell_type": "code",
   "execution_count": 4,
   "metadata": {},
   "outputs": [
    {
     "name": "stdout",
     "output_type": "stream",
     "text": [
      "tf.__version__: 1.14.0\n",
      ".keras.__version__: 2.2.4-tf\n"
     ]
    }
   ],
   "source": [
    "import os\n",
    "import random\n",
    "import fnmatch\n",
    "import datetime\n",
    "import pickle\n",
    "\n",
    "import numpy as np\n",
    "np.set_printoptions(formatter={'float_kind':lambda x: \"%.4f\" %x})\n",
    "\n",
    "import pandas as pd\n",
    "pd.set_option('display.width', 300)\n",
    "pd.set_option('display.float_format', '{:,.4f}'.format)\n",
    "pd.set_option('display.max_colwidth', 200)\n",
    "\n",
    "import tensorflow as tf\n",
    "import tensorflow.keras\n",
    "from tensorflow.keras.models import Sequential\n",
    "from tensorflow.keras.layers import Conv2D, MaxPool2D, Dropout, Flatten, Dense\n",
    "from tensorflow.keras.optimizers import Adam\n",
    "from tensorflow.keras.models import load_model\n",
    "\n",
    "print( f'tf.__version__: {tf.__version__}')\n",
    "print( f'.keras.__version__: {tensorflow.keras.__version__}' )\n",
    "\n",
    "from sklearn.utils import shuffle\n",
    "from sklearn.model_selection import train_test_split\n",
    "\n",
    "# imaging\n",
    "import cv2\n",
    "from imgaug import augmenters as img_aug\n",
    "import matplotlib.pyplot as plt\n",
    "import matplotlib.image as mpimg\n",
    "%matplotlib inline\n",
    "from PIL import Image"
   ]
  },
  {
   "cell_type": "code",
   "execution_count": 13,
   "metadata": {},
   "outputs": [
    {
     "name": "stdout",
     "output_type": "stream",
     "text": [
      "image_path: .\\video\\train_0000000050_90.png\n",
      "steering_Angle: 90\n"
     ]
    },
    {
     "data": {
      "image/png": "[encoded data removed]",
      "text/plain": [
       "<Figure size 432x288 with 1 Axes>"
      ]
     },
     "metadata": {
      "needs_background": "light"
     },
     "output_type": "display_data"
    }
   ],
   "source": [
    "data_dir = r'.\\video_2'\n",
    "file_list = os.listdir(data_dir)\n",
    "image_paths = []\n",
    "steering_angles = []\n",
    "pattern =\"*.png\"\n",
    "for filename in file_list:\n",
    "    if fnmatch.fnmatch(filename, pattern):\n",
    "        image_paths.append(os.path.join(data_dir,filename))\n",
    "        angle =int(filename[-6:-4])\n",
    "        if angle == 35:\n",
    "            angle = int(filename[-7:-4])\n",
    "        steering_angles.append(angle)\n",
    "\n",
    "image_index = 50\n",
    "plt.imshow(Image.open(image_paths[image_index]))\n",
    "print(\"image_path: %s\" % image_paths[image_index] )\n",
    "print(\"steering_Angle: %d\" % steering_angles[image_index] )\n",
    "df = pd.DataFrame()\n",
    "df['ImagePath'] = image_paths\n",
    "df['Angle'] = steering_angles"
   ]
  },
  {
   "cell_type": "code",
   "execution_count": 14,
   "metadata": {},
   "outputs": [
    {
     "data": {
      "text/plain": [
       "(array([1474.0000, 0.0000, 0.0000, 0.0000, 0.0000, 0.0000, 0.0000, 0.0000,\n",
       "        0.0000, 0.0000, 0.0000, 0.0000, 7842.0000, 0.0000, 0.0000, 0.0000,\n",
       "        0.0000, 0.0000, 0.0000, 0.0000, 0.0000, 0.0000, 0.0000, 0.0000,\n",
       "        1390.0000]),\n",
       " array([45.0000, 48.6000, 52.2000, 55.8000, 59.4000, 63.0000, 66.6000,\n",
       "        70.2000, 73.8000, 77.4000, 81.0000, 84.6000, 88.2000, 91.8000,\n",
       "        95.4000, 99.0000, 102.6000, 106.2000, 109.8000, 113.4000, 117.0000,\n",
       "        120.6000, 124.2000, 127.8000, 131.4000, 135.0000]),\n",
       " <a list of 25 Patch objects>)"
      ]
     },
     "execution_count": 14,
     "metadata": {},
     "output_type": "execute_result"
    },
    {
     "data": {
      "image/png": "[encoded data removed]",
      "text/plain": [
       "<Figure size 864x288 with 1 Axes>"
      ]
     },
     "metadata": {
      "needs_background": "light"
     },
     "output_type": "display_data"
    }
   ],
   "source": [
    "num_of_bins = 25\n",
    "hist, bins = np.histogram(df['Angle'], num_of_bins)\n",
    "\n",
    "fig, axes = plt.subplots(1,1, figsize=(12,4))\n",
    "axes.hist(df['Angle'], bins=num_of_bins, width=1, color='blue')"
   ]
  },
  {
   "cell_type": "code",
   "execution_count": 15,
   "metadata": {},
   "outputs": [
    {
     "name": "stdout",
     "output_type": "stream",
     "text": [
      "Training data: 8564\n",
      "Validation data: 2142\n"
     ]
    },
    {
     "data": {
      "text/plain": [
       "Text(0.5, 1.0, 'Validation Data')"
      ]
     },
     "execution_count": 15,
     "metadata": {},
     "output_type": "execute_result"
    },
    {
     "data": {
      "image/png": "[encoded data removed]",
      "text/plain": [
       "<Figure size 864x288 with 2 Axes>"
      ]
     },
     "metadata": {
      "needs_background": "light"
     },
     "output_type": "display_data"
    }
   ],
   "source": [
    "X_train, X_valid, y_train, y_valid = train_test_split( image_paths, \n",
    "steering_angles, test_size=0.2)\n",
    "print(\"Training data: %d\\nValidation data: %d\" % (len(X_train), \n",
    "len(X_valid)))\n",
    "\n",
    "fig, axes = plt.subplots(1,2, figsize=(12,4))\n",
    "axes[0].hist(y_train, bins=num_of_bins, width=1, color='blue')\n",
    "axes[0].set_title('Training Data')\n",
    "axes[1].hist(y_valid, bins=num_of_bins, width=1, color='red')\n",
    "axes[1].set_title('Validation Data')"
   ]
  },
  {
   "cell_type": "code",
   "execution_count": 16,
   "metadata": {},
   "outputs": [
    {
     "data": {
      "text/plain": [
       "Text(0.5, 1.0, 'processed')"
      ]
     },
     "execution_count": 16,
     "metadata": {},
     "output_type": "execute_result"
    },
    {
     "data": {
      "image/png": "[encoded data removed]",
      "text/plain": [
       "<Figure size 1080x720 with 2 Axes>"
      ]
     },
     "metadata": {
      "needs_background": "light"
     },
     "output_type": "display_data"
    }
   ],
   "source": [
    "def my_imread(image_path):\n",
    "    image = cv2.imread(image_path)\n",
    "    return image\n",
    "\n",
    "def img_preprocess(image):\n",
    "    image = image / 255\n",
    "    return image\n",
    "\n",
    "fig, axes = plt.subplots(1, 2, figsize=(15, 10))\n",
    "image_orig = my_imread(image_paths[image_index])\n",
    "image_processed = img_preprocess(image_orig)\n",
    "axes[0].imshow(image_orig)\n",
    "axes[0].set_title(\"orig\")\n",
    "axes[1].imshow(image_processed)\n",
    "axes[1].set_title(\"processed\")"
   ]
  },
  {
   "cell_type": "code",
   "execution_count": 17,
   "metadata": {},
   "outputs": [
    {
     "name": "stdout",
     "output_type": "stream",
     "text": [
      "Model: \"Capstone_Model\"\n",
      "_________________________________________________________________\n",
      "Layer (type)                 Output Shape              Param #   \n",
      "=================================================================\n",
      "conv2d_5 (Conv2D)            (None, 73, 223, 24)       1824      \n",
      "_________________________________________________________________\n",
      "conv2d_6 (Conv2D)            (None, 35, 110, 36)       21636     \n",
      "_________________________________________________________________\n",
      "conv2d_7 (Conv2D)            (None, 16, 53, 48)        43248     \n",
      "_________________________________________________________________\n",
      "conv2d_8 (Conv2D)            (None, 14, 51, 64)        27712     \n",
      "_________________________________________________________________\n",
      "dropout_2 (Dropout)          (None, 14, 51, 64)        0         \n",
      "_________________________________________________________________\n",
      "conv2d_9 (Conv2D)            (None, 12, 49, 64)        36928     \n",
      "_________________________________________________________________\n",
      "flatten_1 (Flatten)          (None, 37632)             0         \n",
      "_________________________________________________________________\n",
      "dropout_3 (Dropout)          (None, 37632)             0         \n",
      "_________________________________________________________________\n",
      "dense_4 (Dense)              (None, 100)               3763300   \n",
      "_________________________________________________________________\n",
      "dense_5 (Dense)              (None, 50)                5050      \n",
      "_________________________________________________________________\n",
      "dense_6 (Dense)              (None, 10)                510       \n",
      "_________________________________________________________________\n",
      "dense_7 (Dense)              (None, 1)                 11        \n",
      "=================================================================\n",
      "Total params: 3,900,219\n",
      "Trainable params: 3,900,219\n",
      "Non-trainable params: 0\n",
      "_________________________________________________________________\n",
      "None\n"
     ]
    }
   ],
   "source": [
    "def Capstone_model():\n",
    "    model = Sequential(name='Capstone_Model')\n",
    "\n",
    "    model.add(Conv2D(24, (5, 5), strides=(2, 2), input_shape=(150, 450, 3), activation='elu')) \n",
    "    model.add(Conv2D(36, (5, 5), strides=(2, 2), activation='elu')) \n",
    "    model.add(Conv2D(48, (5, 5), strides=(2, 2), activation='elu')) \n",
    "    model.add(Conv2D(64, (3, 3), activation='elu')) \n",
    "    model.add(Dropout(0.2))\n",
    "    model.add(Conv2D(64, (3, 3), activation='elu')) \n",
    "\n",
    "    model.add(Flatten())\n",
    "    model.add(Dropout(0.2)) \n",
    "    model.add(Dense(100, activation='elu'))\n",
    "    model.add(Dense(50, activation='elu'))\n",
    "    model.add(Dense(10, activation='elu'))\n",
    "\n",
    "    model.add(Dense(1))\n",
    "\n",
    "    optimizer = Adam(lr=1e-3)\n",
    "    model.compile(loss='mse', optimizer=optimizer)\n",
    "\n",
    "    return model\n",
    "\n",
    "model = Capstone_model()\n",
    "print(model.summary())\n"
   ]
  },
  {
   "cell_type": "code",
   "execution_count": 18,
   "metadata": {},
   "outputs": [
    {
     "data": {
      "image/png": "[encoded data removed]",
      "text/plain": [
       "<Figure size 1080x432 with 4 Axes>"
      ]
     },
     "metadata": {
      "needs_background": "light"
     },
     "output_type": "display_data"
    }
   ],
   "source": [
    "def image_data_generator(image_paths, steering_angles, batch_size):\n",
    "    while True:\n",
    "        batch_images = []\n",
    "        batch_steering_angles = []\n",
    "\n",
    "        for i in range(batch_size):\n",
    "            random_index = random.randint(0, len(image_paths) - 1)\n",
    "            image_path = image_paths[random_index]\n",
    "            image = my_imread(image_paths[random_index])\n",
    "            steering_angle = steering_angles[random_index]\n",
    "\n",
    "            image = img_preprocess(image)\n",
    "            batch_images.append(image)\n",
    "            batch_steering_angles.append(steering_angle)\n",
    "\n",
    "        yield( np.asarray(batch_images), np.asarray(batch_steering_angles))\n",
    "\n",
    "ncol = 2\n",
    "nrow = 2\n",
    "\n",
    "X_train_batch, y_train_batch = next(image_data_generator(X_train, y_train, nrow))\n",
    "X_valid_batch, y_valid_batch = next(image_data_generator(X_valid, y_valid, nrow))\n",
    "\n",
    "fig, axes = plt.subplots(nrow, ncol, figsize=(15, 6))\n",
    "fig.tight_layout()\n",
    "\n",
    "for i in range(nrow):\n",
    "    axes[i][0].imshow(X_train_batch[i])\n",
    "    axes[i][0].set_title(\"training, angle=%s\" % y_train_batch[i])\n",
    "    axes[i][1].imshow(X_valid_batch[i])\n",
    "    axes[i][1].set_title(\"validation, angle=%s\" % y_valid_batch[i])"
   ]
  },
  {
   "cell_type": "code",
   "execution_count": 21,
   "metadata": {},
   "outputs": [
    {
     "name": "stdout",
     "output_type": "stream",
     "text": [
      "Epoch 1/10\n",
      "299/300 [============================>.] - ETA: 1s - loss: 526.1089\n",
      "Epoch 00001: val_loss improved from inf to 189.42933, saving model to ./ets2_lane_navigation2_check.h5\n",
      "300/300 [==============================] - 771s 3s/step - loss: 525.0309 - val_loss: 189.4293\n",
      "Epoch 2/10\n",
      "299/300 [============================>.] - ETA: 1s - loss: 146.7949\n",
      "Epoch 00002: val_loss improved from 189.42933 to 110.94921, saving model to ./ets2_lane_navigation2_check.h5\n",
      "300/300 [==============================] - 758s 3s/step - loss: 146.5846 - val_loss: 110.9492\n",
      "Epoch 3/10\n",
      "299/300 [============================>.] - ETA: 2s - loss: 103.2162\n",
      "Epoch 00003: val_loss improved from 110.94921 to 90.26722, saving model to ./ets2_lane_navigation2_check.h5\n",
      "300/300 [==============================] - 818s 3s/step - loss: 103.2357 - val_loss: 90.2672\n",
      "Epoch 4/10\n",
      "299/300 [============================>.] - ETA: 2s - loss: 80.7699\n",
      "Epoch 00004: val_loss improved from 90.26722 to 76.39815, saving model to ./ets2_lane_navigation2_check.h5\n",
      "300/300 [==============================] - 847s 3s/step - loss: 80.7258 - val_loss: 76.3981\n",
      "Epoch 5/10\n",
      "299/300 [============================>.] - ETA: 2s - loss: 59.6551\n",
      "Epoch 00005: val_loss improved from 76.39815 to 63.37836, saving model to ./ets2_lane_navigation2_check.h5\n",
      "300/300 [==============================] - 890s 3s/step - loss: 59.6179 - val_loss: 63.3784\n",
      "Epoch 6/10\n",
      "299/300 [============================>.] - ETA: 2s - loss: 45.9303\n",
      "Epoch 00006: val_loss improved from 63.37836 to 59.52979, saving model to ./ets2_lane_navigation2_check.h5\n",
      "300/300 [==============================] - 844s 3s/step - loss: 45.9145 - val_loss: 59.5298\n",
      "Epoch 7/10\n",
      "299/300 [============================>.] - ETA: 2s - loss: 36.7393\n",
      "Epoch 00007: val_loss did not improve from 59.52979\n",
      "300/300 [==============================] - 825s 3s/step - loss: 36.6729 - val_loss: 63.2960\n",
      "Epoch 8/10\n",
      "299/300 [============================>.] - ETA: 2s - loss: 27.6719\n",
      "Epoch 00008: val_loss improved from 59.52979 to 52.41086, saving model to ./ets2_lane_navigation2_check.h5\n",
      "300/300 [==============================] - 827s 3s/step - loss: 27.6148 - val_loss: 52.4109\n",
      "Epoch 9/10\n",
      "299/300 [============================>.] - ETA: 2s - loss: 21.9633\n",
      "Epoch 00009: val_loss did not improve from 52.41086\n",
      "300/300 [==============================] - 841s 3s/step - loss: 21.9495 - val_loss: 53.7042\n",
      "Epoch 10/10\n",
      "299/300 [============================>.] - ETA: 2s - loss: 21.1472\n",
      "Epoch 00010: val_loss improved from 52.41086 to 49.55725, saving model to ./ets2_lane_navigation2_check.h5\n",
      "300/300 [==============================] - 836s 3s/step - loss: 21.1957 - val_loss: 49.5572\n"
     ]
    }
   ],
   "source": [
    "model_output_dir = r\"./\"\n",
    "\n",
    "checkpoint_callback = tensorflow.keras.callbacks.ModelCheckpoint(filepath=os.path.join(model_output_dir, 'ets2_lane_navigation_1015_check.h5' ), verbose=1, save_best_only=True)\n",
    "\n",
    "history = model.fit_generator(image_data_generator( X_train, y_train, batch_size=100),\n",
    "                              steps_per_epoch=300,\n",
    "                              epochs=10,\n",
    "                              validation_data = image_data_generator( X_valid, y_valid, batch_size=100),\n",
    "                              validation_steps=200,\n",
    "                              verbose=1,\n",
    "                              shuffle=1,\n",
    "                              callbacks=[checkpoint_callback])\n",
    "\n",
    "model.save(os.path.join(model_output_dir,'ets2_lane_navigation_1015_final.h5'))\n",
    "\n",
    "history_path = os.path.join(model_output_dir,'ets2_history_1015.pickle')\n",
    "with open(history_path, 'wb') as f:\n",
    "    pickle.dump(history.history, f, pickle.HIGHEST_PROTOCOL)"
   ]
  },
  {
   "cell_type": "code",
   "execution_count": 22,
   "metadata": {},
   "outputs": [
    {
     "data": {
      "text/plain": [
       "<matplotlib.legend.Legend at 0x2bc091d4da0>"
      ]
     },
     "execution_count": 22,
     "metadata": {},
     "output_type": "execute_result"
    },
    {
     "data": {
      "image/png": "[encoded data removed]",
      "text/plain": [
       "<Figure size 432x288 with 1 Axes>"
      ]
     },
     "metadata": {
      "needs_background": "light"
     },
     "output_type": "display_data"
    }
   ],
   "source": [
    "history.history\n",
    "\n",
    "history_path = os.path.join(model_output_dir,'ets2_history_1015.pickle')\n",
    "with open(history_path, 'rb') as f:\n",
    "    history = pickle.load(f)\n",
    "\n",
    "history\n",
    "plt.plot(history['loss'],color='blue')\n",
    "plt.plot(history['val_loss'],color='red')\n",
    "plt.legend([\"training loss\", \"validation loss\"])"
   ]
  },
  {
   "cell_type": "code",
   "execution_count": 25,
   "metadata": {},
   "outputs": [
    {
     "name": "stdout",
     "output_type": "stream",
     "text": [
      "WARNING:tensorflow:From c:\\Users\\min14\\anaconda3\\envs\\aicar_373\\lib\\site-packages\\tensorflow\\python\\ops\\init_ops.py:97: calling GlorotUniform.__init__ (from tensorflow.python.ops.init_ops) with dtype is deprecated and will be removed in a future version.\n",
      "Instructions for updating:\n",
      "Call initializer instance with the dtype argument instead of passing it to the constructor\n",
      "WARNING:tensorflow:From c:\\Users\\min14\\anaconda3\\envs\\aicar_373\\lib\\site-packages\\tensorflow\\python\\ops\\init_ops.py:97: calling Zeros.__init__ (from tensorflow.python.ops.init_ops) with dtype is deprecated and will be removed in a future version.\n",
      "Instructions for updating:\n",
      "Call initializer instance with the dtype argument instead of passing it to the constructor\n",
      "mse = 7.1e+01\n",
      "r_squared = 83.98%\n",
      "\n"
     ]
    },
    {
     "data": {
      "image/png": "[encoded data removed]",
      "text/plain": [
       "<Figure size 720x576 with 2 Axes>"
      ]
     },
     "metadata": {
      "needs_background": "light"
     },
     "output_type": "display_data"
    }
   ],
   "source": [
    "from sklearn.metrics import mean_squared_error, r2_score\n",
    "\n",
    "def summarize_prediction(Y_true, Y_pred):\n",
    "\n",
    "    mse = mean_squared_error(Y_true, Y_pred)\n",
    "    r_squared = r2_score(Y_true, Y_pred)\n",
    "\n",
    "    print(f'mse = {mse:.2}')\n",
    "    print(f'r_squared = {r_squared:.2%}')\n",
    "    print()\n",
    "\n",
    "def predict_and_summarize(X, Y):\n",
    "    model = load_model(f'{model_output_dir}/ets2_lane_navigation2_check.h5')\n",
    "    Y_pred = model.predict(X)\n",
    "    summarize_prediction(Y, Y_pred)\n",
    "    return Y_pred\n",
    "\n",
    "n_tests = 100\n",
    "X_test, y_test = next(image_data_generator(X_valid, y_valid, 100))\n",
    "\n",
    "y_pred = predict_and_summarize(X_test, y_test)\n",
    "\n",
    "n_tests_show = 2\n",
    "fig, axes = plt.subplots(n_tests_show, 1, figsize=(10, 4 * n_tests_show))\n",
    "for i in range(n_tests_show):\n",
    "    axes[i].imshow(X_test[i])\n",
    "    axes[i].set_title(f\"actual angle={y_test[i]}, predicted angle={int(y_pred[i])}, diff = {int(y_pred[i])-y_test[i]}\")\n"
   ]
  }
 ],
 "metadata": {
  "kernelspec": {
   "display_name": "base",
   "language": "python",
   "name": "python3"
  },
  "language_info": {
   "codemirror_mode": {
    "name": "ipython",
    "version": 3
   },
   "file_extension": ".py",
   "mimetype": "text/x-python",
   "name": "python",
   "nbconvert_exporter": "python",
   "pygments_lexer": "ipython3",
   "version": "3.7.3"
  },
  "orig_nbformat": 4
 },
 "nbformat": 4,
 "nbformat_minor": 2
}
